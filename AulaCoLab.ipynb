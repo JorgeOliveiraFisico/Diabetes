{
  "nbformat": 4,
  "nbformat_minor": 0,
  "metadata": {
    "colab": {
      "name": "AulaCoLab.ipynb",
      "private_outputs": true,
      "provenance": [],
      "collapsed_sections": [],
      "include_colab_link": true
    },
    "kernelspec": {
      "display_name": "Python 3",
      "language": "python",
      "name": "python3"
    },
    "language_info": {
      "codemirror_mode": {
        "name": "ipython",
        "version": 3
      },
      "file_extension": ".py",
      "mimetype": "text/x-python",
      "name": "python",
      "nbconvert_exporter": "python",
      "pygments_lexer": "ipython3",
      "version": "3.8.3"
    },
    "accelerator": "GPU"
  },
  "cells": [
    {
      "cell_type": "markdown",
      "metadata": {
        "id": "view-in-github",
        "colab_type": "text"
      },
      "source": [
        "<a href=\"https://colab.research.google.com/github/JorgeOliveiraFisico/Diabetes/blob/main/AulaCoLab.ipynb\" target=\"_parent\"><img src=\"https://colab.research.google.com/assets/colab-badge.svg\" alt=\"Open In Colab\"/></a>"
      ]
    },
    {
      "cell_type": "code",
      "metadata": {
        "id": "qeFcgqy_fXFb"
      },
      "source": [
        "from sklearn import datasets"
      ],
      "execution_count": null,
      "outputs": []
    },
    {
      "cell_type": "code",
      "metadata": {
        "id": "pXjpYSlNfXFc"
      },
      "source": [
        "iris = datasets.load_iris"
      ],
      "execution_count": null,
      "outputs": []
    },
    {
      "cell_type": "code",
      "metadata": {
        "id": "8m9JEbYtfXFc"
      },
      "source": [
        "print(iris)"
      ],
      "execution_count": null,
      "outputs": []
    },
    {
      "cell_type": "code",
      "metadata": {
        "id": "tAQhShH9fXFd"
      },
      "source": [
        "print(type(iris))"
      ],
      "execution_count": null,
      "outputs": []
    },
    {
      "cell_type": "code",
      "metadata": {
        "id": "C1MU9hCpfXFd"
      },
      "source": [
        "digits = datasets.load_digits()"
      ],
      "execution_count": null,
      "outputs": []
    },
    {
      "cell_type": "code",
      "metadata": {
        "id": "oOLSI0YMfXFd"
      },
      "source": [
        "print(digits)"
      ],
      "execution_count": null,
      "outputs": []
    },
    {
      "cell_type": "code",
      "metadata": {
        "id": "zwVtrV8ufXFd"
      },
      "source": [
        "import pandas as pd\n"
      ],
      "execution_count": null,
      "outputs": []
    },
    {
      "cell_type": "code",
      "metadata": {
        "id": "DQdasgmPh9t-"
      },
      "source": [
        "from google.colab import files\n",
        "uploaded = files.upload()"
      ],
      "execution_count": null,
      "outputs": []
    },
    {
      "cell_type": "code",
      "metadata": {
        "id": "nNopjv7LiZpr"
      },
      "source": [
        "import io\n",
        "diabetes = pd.read_csv(io.BytesIO(uploaded['data.csv']))"
      ],
      "execution_count": null,
      "outputs": []
    },
    {
      "cell_type": "code",
      "metadata": {
        "id": "L8kb8KLJh4vv"
      },
      "source": [
        "url = 'https://raw.githubusercontent.com/JorgeOliveiraFisico/Diabetes/main/data.csv'\n",
        "import io\n",
        "import requests\n",
        "s=requests.get(url).content\n",
        "diabetes2=pd.read_csv(io.StringIO(s.decode('utf-8')))\n",
        "\n"
      ],
      "execution_count": null,
      "outputs": []
    },
    {
      "cell_type": "code",
      "metadata": {
        "id": "WQp-sEDmCJH-"
      },
      "source": [
        "print(diabetes2)"
      ],
      "execution_count": null,
      "outputs": []
    },
    {
      "cell_type": "code",
      "metadata": {
        "id": "ABOer4yzfXFe"
      },
      "source": [
        "print(diabetes)"
      ],
      "execution_count": null,
      "outputs": []
    },
    {
      "cell_type": "code",
      "metadata": {
        "id": "-tPXMDTpfXFe"
      },
      "source": [
        "print(diabetes['diagnosis'])"
      ],
      "execution_count": null,
      "outputs": []
    },
    {
      "cell_type": "code",
      "metadata": {
        "id": "VNECLaRLfXFe"
      },
      "source": [
        "import scipy.io as sc"
      ],
      "execution_count": null,
      "outputs": []
    },
    {
      "cell_type": "code",
      "metadata": {
        "id": "qHiZ_Wa7fXFe"
      },
      "source": [
        "PitchData = sc.loadmat('C:\\\\Users\\\\Jorge\\\\Desktop\\\\AAUTC\\\\Aula1\\\\mySmooth.')"
      ],
      "execution_count": null,
      "outputs": []
    },
    {
      "cell_type": "code",
      "metadata": {
        "id": "3IpByghRfXFe"
      },
      "source": [
        "for key, value in PitchData.items():\n",
        "    print (key,value)"
      ],
      "execution_count": null,
      "outputs": []
    },
    {
      "cell_type": "code",
      "metadata": {
        "id": "fxRCAwjGfXFe"
      },
      "source": [
        "\n",
        "\n",
        "print(PitchData.keys())"
      ],
      "execution_count": null,
      "outputs": []
    },
    {
      "cell_type": "code",
      "metadata": {
        "id": "0d_lVsd3fXFe"
      },
      "source": [
        "#get the values of the key Smooth\n",
        "myData = PitchData.get('Smooth')"
      ],
      "execution_count": null,
      "outputs": []
    },
    {
      "cell_type": "code",
      "metadata": {
        "id": "rcg6cjR5fXFf"
      },
      "source": [
        "print(myData.size)"
      ],
      "execution_count": null,
      "outputs": []
    },
    {
      "cell_type": "code",
      "metadata": {
        "id": "QobUAYAtfXFf"
      },
      "source": [
        "import skimage.io as sk "
      ],
      "execution_count": null,
      "outputs": []
    },
    {
      "cell_type": "code",
      "metadata": {
        "id": "GlTdsZHmfXFf"
      },
      "source": [
        "Monalisa = sk.imread('C:\\\\Users\\\\Jorge\\\\Desktop\\\\AAUTC\\\\Aula1\\\\monalisa.jpg')"
      ],
      "execution_count": null,
      "outputs": []
    },
    {
      "cell_type": "code",
      "metadata": {
        "id": "MIOZHtoOfXFf"
      },
      "source": [
        "ax_im = sk.imshow(Monalisa)"
      ],
      "execution_count": null,
      "outputs": []
    },
    {
      "cell_type": "code",
      "metadata": {
        "id": "wS4gFBG7fXFf"
      },
      "source": [
        "from skimage.color import rgb2gray"
      ],
      "execution_count": null,
      "outputs": []
    },
    {
      "cell_type": "code",
      "metadata": {
        "id": "D7NqjqZ4fXFf"
      },
      "source": [
        "MonaLisagray = rgb2gray(Monalisa)\n"
      ],
      "execution_count": null,
      "outputs": []
    },
    {
      "cell_type": "code",
      "metadata": {
        "id": "eGmWKdCifXFf"
      },
      "source": [
        "import matplotlib.pyplot as plt"
      ],
      "execution_count": null,
      "outputs": []
    },
    {
      "cell_type": "code",
      "metadata": {
        "id": "IHycL3KTfXFf"
      },
      "source": [
        "fig, axes = plt.subplots(1, 2, figsize=(8, 4))\n",
        "ax = axes.ravel()\n",
        "\n",
        "ax[0].imshow(Monalisa)\n",
        "ax[0].set_title(\"Original\")\n",
        "ax[1].imshow(MonaLisagray, cmap=plt.cm.gray)\n",
        "ax[1].set_title(\"Grayscale\")\n",
        "\n",
        "fig.tight_layout()\n",
        "plt.show()"
      ],
      "execution_count": null,
      "outputs": []
    },
    {
      "cell_type": "code",
      "metadata": {
        "id": "xpx-eRgjfXFg"
      },
      "source": [
        "print(type(Monalisa))\n",
        "print(Monalisa.shape)"
      ],
      "execution_count": null,
      "outputs": []
    },
    {
      "cell_type": "code",
      "metadata": {
        "id": "RYCmjhVPfXFg"
      },
      "source": [
        "RedLisa = Monalisa[:,:,0]\n",
        "import numpy as np\n",
        "print(np.max(RedLisa))"
      ],
      "execution_count": null,
      "outputs": []
    },
    {
      "cell_type": "code",
      "metadata": {
        "id": "7Txib_yjfXFg"
      },
      "source": [
        "GreenLisa = Monalisa[:,:,1]"
      ],
      "execution_count": null,
      "outputs": []
    },
    {
      "cell_type": "code",
      "metadata": {
        "id": "ItJ1rLdEfXFg"
      },
      "source": [
        "BlueLisa = Monalisa[:,:,2]"
      ],
      "execution_count": null,
      "outputs": []
    },
    {
      "cell_type": "code",
      "metadata": {
        "id": "tvm8UbhdfXFg"
      },
      "source": [
        "fig, axes = plt.subplots(1, 5, figsize=(8, 4))\n",
        "ax = axes.ravel()\n",
        "\n",
        "ax[0].imshow(RedLisa, cmap=plt.cm.Reds)\n",
        "ax[0].set_title(\"Red Lisa\")\n",
        "ax[1].imshow(GreenLisa, cmap=plt.cm.Greens)\n",
        "ax[1].set_title(\"Green Lisa\")\n",
        "ax[2].imshow(BlueLisa, cmap=plt.cm.Blues)\n",
        "ax[2].set_title(\"Blue Lisa\")\n",
        "ax[3].imshow(np.mean(Monalisa, -1), cmap=plt.cm.gray)\n",
        "ax[3].set_title(\"Gray Lisa\")\n",
        "ax[4].imshow(MonaLisagray, cmap=plt.cm.gray)\n",
        "ax[4].set_title(\"Gray Lisa\")\n",
        "fig.tight_layout()\n",
        "plt.show()"
      ],
      "execution_count": null,
      "outputs": []
    },
    {
      "cell_type": "code",
      "metadata": {
        "id": "-OxuyJh6fXFh"
      },
      "source": [
        "from scipy.io import wavfile\n"
      ],
      "execution_count": null,
      "outputs": []
    },
    {
      "cell_type": "code",
      "metadata": {
        "id": "ac9YSy1kfXFh"
      },
      "source": [
        "wav_loc = \"C:\\\\Users\\\\Jorge\\\\Desktop\\\\AAUTC\\\\Aula1\\\\assets\\\\fish.wav\"\n",
        "\n",
        "rate, data = wavfile.read(wav_loc)\n"
      ],
      "execution_count": null,
      "outputs": []
    },
    {
      "cell_type": "code",
      "metadata": {
        "id": "K3yzaHJ-fXFh"
      },
      "source": [
        "from playsound import playsound\n"
      ],
      "execution_count": null,
      "outputs": []
    },
    {
      "cell_type": "code",
      "metadata": {
        "id": "ARkdiqEOfXFh"
      },
      "source": [
        "playsound(wav_loc)"
      ],
      "execution_count": null,
      "outputs": []
    },
    {
      "cell_type": "code",
      "metadata": {
        "id": "n7tFgztqfXFh"
      },
      "source": [
        ""
      ],
      "execution_count": null,
      "outputs": []
    }
  ]
}